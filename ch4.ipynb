{
 "cells": [
  {
   "cell_type": "code",
   "execution_count": 26,
   "metadata": {},
   "outputs": [
    {
     "name": "stdout",
     "output_type": "stream",
     "text": [
      "a. 4 warpsPerBlock\n",
      "b. 32 warpsInGrid\n",
      "c.1 24 Active Warps in Grid, in Line 04 divergence\n",
      "c.2 16 Warps divergent in grid, in Line 04 divergence\n",
      "c.3 100.0% SIMD efficiency warp 0 of block 0 , in Line 04 divergence\n",
      "c.4 25.0% SIMD efficiency warp 1 of block 0 , in Line 04 divergence\n",
      "c.4 75.0% SIMD efficiency warp 3 of block 0 , in Line 04 divergence\n",
      "d.1 32 Warps in grid Active, Line 07 divergence\n",
      "d.2 32 Warps in grid Divergent, Line 07 divergence\n",
      "d.2 50.0% SIMD efficiency warp 0 block 0, Line 07 divergence\n",
      "e.1 3 Itrations have NO divergence, Line 09 divergence\n",
      "e.1 2 Itrations HAVE divergence, Line 09 divergence\n"
     ]
    }
   ],
   "source": [
    "# 1. \n",
    "from math import ceil\n",
    "\n",
    "\n",
    "N = 1024\n",
    "grids = 8\n",
    "threadsInBlock = 128\n",
    "\n",
    "warpsPerBlock = ceil(128 // 32)\n",
    "print(f\"a. {warpsPerBlock} warpsPerBlock\")\n",
    "print(f\"b. {grids * warpsPerBlock} warpsInGrid\")\n",
    "print(f\"c.1 {3 * grids} Active Warps in Grid, in Line 04 divergence\")\n",
    "print(f\"c.2 {2 * grids} Warps divergent in grid, in Line 04 divergence\")\n",
    "print(f\"c.3 {32/32*100}% SIMD efficiency warp 0 of block 0 , in Line 04 divergence\")\n",
    "print(f\"c.4 {(32-(64-40))/32*100}% SIMD efficiency warp 1 of block 0 , in Line 04 divergence\")\n",
    "print(f\"c.4 {(128-104)/32*100}% SIMD efficiency warp 3 of block 0 , in Line 04 divergence\")\n",
    "\n",
    "print(f\"d.1 {grids * warpsPerBlock} Warps in grid Active, Line 07 divergence\")\n",
    "print(f\"d.2 {grids * warpsPerBlock } Warps in grid Divergent, Line 07 divergence\")\n",
    "print(f\"d.2 {50/100*100}% SIMD efficiency warp 0 block 0, Line 07 divergence\")\n",
    "# Loop condition: j: 0 to < 5 - i%3\n",
    "print(f\"e.1 {3} Itrations have NO divergence, Line 09 divergence\")\n",
    "print(f\"e.1 {2} Itrations HAVE divergence, Line 09 divergence\")\n"
   ]
  }
 ],
 "metadata": {
  "kernelspec": {
   "display_name": "pymetal",
   "language": "python",
   "name": "python3"
  },
  "language_info": {
   "codemirror_mode": {
    "name": "ipython",
    "version": 3
   },
   "file_extension": ".py",
   "mimetype": "text/x-python",
   "name": "python",
   "nbconvert_exporter": "python",
   "pygments_lexer": "ipython3",
   "version": "3.9.6"
  }
 },
 "nbformat": 4,
 "nbformat_minor": 2
}
