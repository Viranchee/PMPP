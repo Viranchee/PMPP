{
 "cells": [
  {
   "cell_type": "code",
   "execution_count": null,
   "metadata": {},
   "outputs": [
    {
     "name": "stdout",
     "output_type": "stream",
     "text": [
      "1.a\t4 warpsPerBlock\n",
      "1.b\t32 warpsInGrid\n",
      "1.c.1\t24 Active Warps in Grid, in Line 04 divergence\n",
      "1.c.2\t16 Warps divergent in grid, in Line 04 divergence\n",
      "1.c.3\t100.0% SIMD efficiency warp 0 of block 0 , in Line 04 divergence\n",
      "1.c.4\t25.0% SIMD efficiency warp 1 of block 0 , in Line 04 divergence\n",
      "1.c.4\t75.0% SIMD efficiency warp 3 of block 0 , in Line 04 divergence\n",
      "1.d.1\t32 Warps in grid Active, Line 07 divergence\n",
      "1.d.2\t32 Warps in grid Divergent, Line 07 divergence\n",
      "1.d.2\t50.0% SIMD efficiency warp 0 block 0, Line 07 divergence\n",
      "1.e.1\t3 Itrations have NO divergence, Line 09 divergence\n",
      "1.e.1\t2 Itrations HAVE divergence, Line 09 divergence\n"
     ]
    }
   ],
   "source": [
    "# 1. \n",
    "from math import ceil\n",
    "\n",
    "\n",
    "N = 1024\n",
    "grids = 8\n",
    "threadsInBlock = 128\n",
    "\n",
    "warpsPerBlock = ceil(128 // 32)\n",
    "print(f\"1.a\\t{warpsPerBlock} warpsPerBlock\")\n",
    "print(f\"1.b\\t{grids * warpsPerBlock} warpsInGrid\")\n",
    "print(f\"1.c.1\\t{3 * grids} Active Warps in Grid, in Line 04 divergence\")\n",
    "print(f\"1.c.2\\t{2 * grids} Warps divergent in grid, in Line 04 divergence\")\n",
    "print(f\"1.c.3\\t{32/32*100}% SIMD efficiency warp 0 of block 0 , in Line 04 divergence\")\n",
    "print(f\"1.c.4\\t{(32-(64-40))/32*100}% SIMD efficiency warp 1 of block 0 , in Line 04 divergence\")\n",
    "print(f\"1.c.4\\t{(128-104)/32*100}% SIMD efficiency warp 3 of block 0 , in Line 04 divergence\")\n",
    "print(f\"1.d.1\\t{grids * warpsPerBlock} Warps in grid Active, Line 07 divergence\")\n",
    "print(f\"1.d.2\\t{grids * warpsPerBlock } Warps in grid Divergent, Line 07 divergence\")\n",
    "print(f\"1.d.2\\t{50/100*100}% SIMD efficiency warp 0 block 0, Line 07 divergence\")\n",
    "# Loop condition: j: 0 to < 5 - i%3\n",
    "print(f\"1.e.1\\t{3} Itrations have NO divergence, Line 09 divergence\")\n",
    "print(f\"1.e.1\\t{2} Itrations HAVE divergence, Line 09 divergence\")"
   ]
  },
  {
   "cell_type": "code",
   "execution_count": 51,
   "metadata": {},
   "outputs": [
    {
     "name": "stdout",
     "output_type": "stream",
     "text": [
      "2.\t2048 threads in grid\n",
      "3.\t1 threads divergent\n",
      "4.\t17.08% of threads execution time waiting for barrier\n",
      "5.\tNo. Warp size can change across architectures in future. __syncthreads() sync within the same block. Barrier for within blocks\n",
      "6.\t512threads per block can fit 3 blocks in the SM, max is 4\n",
      "7.a\t50.00% occupancy8: blocks of 128 threads\n",
      "7.b\t50.00% occupancy16: blocks of 64 threads\n",
      "7.c\t50.00% occupancy32: blocks of 32 threads\n",
      "7.d\t100.00% occupancy64: blocks of 32 threads\n",
      "7.e\t100.00% occupancy32: blocks of 64 threads\n",
      "8.a\t Full occupancy can be achieved\n",
      "8.b\t Occupancy limited by #Blocks\n",
      "8.c\t Occupancy limited by registers per SM\n",
      "9.\tBluff. SM supports 512 threads. A 32x32 thread block kernel calculating for 1024x1024 element array requires 32x32=1024 threads per block, when limit is 512 threads per block\n"
     ]
    }
   ],
   "source": [
    "#2. For a vector addition, assume that the vector length is 2000, each thread\n",
    "# calculates one output element, and the thread block size is 512 threads. How\n",
    "# many threads will be in the grid?\n",
    "\n",
    "from atexit import register\n",
    "\n",
    "\n",
    "print(f\"2.\\t{512*4} threads in grid\")\n",
    "#3. For the previous question, how many warps do you expect to have divergence\n",
    "# due to the boundary check on vector length?\n",
    "print(f\"3.\\t{1} threads divergent\")\n",
    "# 4. Consider a hypothetical block with 8 threads executing a section of code\n",
    "# before reaching a barrier. The threads require the following amount of time\n",
    "# (in microseconds) to execute the sections: 2.0, 2.3, 3.0, 2.8, 2.4, 1.9, 2.6, and\n",
    "# 2.9; they spend the rest of their time waiting for the barrier. What percentage\n",
    "# of the threads’ total execution time is spent waiting for the barrier?\n",
    "times = [2.0, 2.3, 3.0, 2.8, 2.4, 1.9, 2.6, 2.9]\n",
    "waitTimePercentage = sum(max(times) - t for t in times) / (8 * max(times)) * 100\n",
    "print(f\"4.\\t{waitTimePercentage:.2f}% of threads execution time waiting for barrier\")\n",
    "# 5. A CUDA programmer says that if they launch a kernel with only 32 threads\n",
    "# in each block, they can leave out the __syncthreads() instruction wherever\n",
    "# barrier synchronization is needed. Do you think this is a good idea? Explain.\n",
    "print(f\"5.\\tNo. Warp size can change across architectures in future. __syncthreads() sync within the same block. Barrier for within blocks\")\n",
    "# 6. If a CUDA device’s SM can take up to 1536 threads and up to 4 thread\n",
    "# blocks, which of the following block configurations would result in the most\n",
    "# number of threads in the SM?\n",
    "# a. 128t/b, 256t/b, 512t/b, 1024t/b\n",
    "print(f\"6.\\t{512}threads per block can fit 3 blocks in the SM, max is 4\")\n",
    "# 7. Assume a device that allows up to 64 blocks per SM and 2048 threads per\n",
    "# SM. Indicate which of the following assignments per SM are possible. In the\n",
    "# cases in which it is possible, indicate the occupancy level.\n",
    "totalThreads = 2048\n",
    "blocks = [8,16,32,64,32]\n",
    "threads = [128,64,32,32,64]\n",
    "problemCh = 'a'\n",
    "for b,t in zip(blocks, threads):\n",
    "  threadsInSM = b * t\n",
    "  occupancy = threadsInSM / totalThreads * 100\n",
    "  print(f\"7.{problemCh}\\t{occupancy:.2f}% occupancy{b}: blocks of {t} threads\")\n",
    "  problemCh = chr(ord(problemCh)+1)\n",
    "\n",
    "# 8. Consider a GPU with the following hardware limits: 2048 threads per SM, 32\n",
    "# blocks per SM, and 64K (65,536) registers per SM. For each of the following\n",
    "# kernel characteristics, specify whether the kernel can achieve full occupancy.\n",
    "# If not, specify the limiting factor.\n",
    "# a. The kernel uses 128 threads per block and 30 registers per thread.\n",
    "# b. The kernel uses 32 threads per block and 29 registers per thread.\n",
    "# c. The kernel uses 256 threads per block and 34 registers per thread.\n",
    "threadsPerSM = 2048\n",
    "blocksPerSM = 32\n",
    "registersPerSM = 65536\n",
    "problemCh = 'a'\n",
    "threads = [128,32,256]\n",
    "regsPerThread = [30,29,34]\n",
    "print(f\"8.a\\t Full occupancy can be achieved\")\n",
    "print(f\"8.b\\t Occupancy limited by #Blocks\")\n",
    "print(f\"8.c\\t Occupancy limited by registers per SM\")\n",
    "\n",
    "print(f\"9.\\tBluff. SM supports 512 threads. A 32x32 thread block kernel calculating for 1024x1024 element array requires 32x32=1024 threads per block, when limit is 512 threads per block\")\n"
   ]
  }
 ],
 "metadata": {
  "kernelspec": {
   "display_name": "pymetal",
   "language": "python",
   "name": "python3"
  },
  "language_info": {
   "codemirror_mode": {
    "name": "ipython",
    "version": 3
   },
   "file_extension": ".py",
   "mimetype": "text/x-python",
   "name": "python",
   "nbconvert_exporter": "python",
   "pygments_lexer": "ipython3",
   "version": "3.9.6"
  }
 },
 "nbformat": 4,
 "nbformat_minor": 2
}
