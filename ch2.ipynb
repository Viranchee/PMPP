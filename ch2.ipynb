{
 "cells": [
  {
   "cell_type": "code",
   "execution_count": null,
   "metadata": {},
   "outputs": [],
   "source": [
    "import torch\n"
   ]
  },
  {
   "cell_type": "markdown",
   "metadata": {},
   "source": [
    "# Calculating Index in a 2D image \n",
    "\n",
    "### Row Major Layout\n",
    "\n",
    "```c\n",
    "int row = blockIdx.y * blockDim.y + threadIdx.y;\n",
    "int col = blockIdx.x * blockDim.x + threadIdx.x;\n",
    "int plane = blockIdx.z * blockDim.z + threadIdx.z;\n",
    "\n",
    "int offset = plane * m * n + row * m + col;\n",
    "```\n",
    "\n",
    "### Column Major Layout"
   ]
  },
  {
   "cell_type": "markdown",
   "metadata": {},
   "source": [
    "### BLAS\n",
    "\n",
    "Level 1: Vector-vector operations\n",
    "Level 2: Matrix-vector operations\n",
    "Level 3: Matrix-matrix operations\n",
    "\n"
   ]
  },
  {
   "cell_type": "code",
   "execution_count": null,
   "metadata": {},
   "outputs": [],
   "source": []
  }
 ],
 "metadata": {
  "kernelspec": {
   "display_name": "pymetal",
   "language": "python",
   "name": "python3"
  },
  "language_info": {
   "name": "python",
   "version": "3.9.6"
  }
 },
 "nbformat": 4,
 "nbformat_minor": 2
}
